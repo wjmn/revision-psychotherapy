{
 "cells": [
  {
   "cell_type": "markdown",
   "metadata": {},
   "source": [
    "# $\\Psi$ Therapies"
   ]
  },
  {
   "cell_type": "markdown",
   "metadata": {},
   "source": [
    "For questions, email jwu202 at student dot monash dot edu."
   ]
  },
  {
   "cell_type": "markdown",
   "metadata": {},
   "source": [
    "## What is this?"
   ]
  },
  {
   "cell_type": "markdown",
   "metadata": {},
   "source": [
    "This notebook generates the data and graphics for a psychotherapy revision lecture."
   ]
  },
  {
   "cell_type": "markdown",
   "metadata": {},
   "source": [
    "## How does it work?\n",
    "\n",
    "The presentation is a slide deck. Each slide in the deck states a concrete, actionable suggestion for clinical practice related to psychotherapy within the confines of medical student learning. Please note that this is for educational purposes only, and does not constitute medical advice. If you need further discouragement, then please also note it was written by a medical student.\n",
    "\n",
    "Each slide contains four pieces of data:\n",
    "\n",
    "1. A situation.\n",
    "2. A suggestion.\n",
    "3. The rationale.\n",
    "4. A concrete example.\n",
    "\n",
    "This slide deck is aimed at clinical students, so basic preclinical knowledge (e.g. pharmacology, neurotransmitters) is assumed. \n",
    "\n",
    "This notebook generates the slides (mostly just the graphics). The notebook mixes text descriptions with code blocks (in grey). The code is written in the [Julia](https://julialang.org/) programming language."
   ]
  },
  {
   "cell_type": "markdown",
   "metadata": {},
   "source": [
    "# Setup"
   ]
  },
  {
   "cell_type": "markdown",
   "metadata": {},
   "source": [
    "Graphics are made using [Luxor.jl](https://github.com/JuliaGraphics/Luxor.jl)."
   ]
  },
  {
   "cell_type": "code",
   "execution_count": 1,
   "metadata": {},
   "outputs": [],
   "source": [
    "# using Pkg\n",
    "# Pkg.add(\"JSON\")\n",
    "# Pkg.add(\"Luxor\")\n",
    "using Luxor\n",
    "using JSON\n",
    "using DataStructures"
   ]
  },
  {
   "cell_type": "markdown",
   "metadata": {},
   "source": [
    "Below, we define a convenience macro to ensure all images are a consistent shape and size."
   ]
  },
  {
   "cell_type": "code",
   "execution_count": 7,
   "metadata": {},
   "outputs": [
    {
     "data": {
      "text/plain": [
       "@img (macro with 1 method)"
      ]
     },
     "execution_count": 7,
     "metadata": {},
     "output_type": "execute_result"
    }
   ],
   "source": [
    "macro img(filename, expr)\n",
    "    quote\n",
    "        @png begin\n",
    "            $(esc(expr))\n",
    "            end 480 480 $(\"./graphics/$filename.png\")\n",
    "    end\n",
    "end"
   ]
  },
  {
   "cell_type": "code",
   "execution_count": 3,
   "metadata": {
    "scrolled": true
   },
   "outputs": [
    {
     "data": {
      "text/plain": [
       "(480, 480)"
      ]
     },
     "execution_count": 3,
     "metadata": {},
     "output_type": "execute_result"
    }
   ],
   "source": [
    "X, Y = 480, 480"
   ]
  },
  {
   "cell_type": "markdown",
   "metadata": {},
   "source": [
    "We first define an empty list of slides."
   ]
  },
  {
   "cell_type": "code",
   "execution_count": 4,
   "metadata": {},
   "outputs": [
    {
     "data": {
      "text/plain": [
       "0-element Array{Any,1}"
      ]
     },
     "execution_count": 4,
     "metadata": {},
     "output_type": "execute_result"
    }
   ],
   "source": [
    "slides = []"
   ]
  },
  {
   "cell_type": "markdown",
   "metadata": {},
   "source": [
    "We then define a convenience macro for making slides that will push a slide into the `slides` list and save the graphic information."
   ]
  },
  {
   "cell_type": "code",
   "execution_count": 12,
   "metadata": {},
   "outputs": [
    {
     "data": {
      "text/plain": [
       "@slide (macro with 1 method)"
      ]
     },
     "execution_count": 12,
     "metadata": {},
     "output_type": "execute_result"
    }
   ],
   "source": [
    "macro slide(name, scenario, suggestion, rationale, example_stem, example_answer, graphic_name, graphic)\n",
    "    quote\n",
    "        push!($(esc(slides)), Dict(\"scenario\" => $(scenario),\n",
    "            \"suggestion\" => $(suggestion),\n",
    "            \"rationale\" => $(rationale),\n",
    "            \"example_stem\" => $(example_stem),\n",
    "            \"example_answer\" => $(example_answer),\n",
    "            \"graphic_name\" => $(graphic_name),\n",
    "            ))\n",
    "        @img $(graphic_name) begin\n",
    "            $(esc(graphic))\n",
    "            end \n",
    "    end\n",
    "end"
   ]
  },
  {
   "cell_type": "markdown",
   "metadata": {
    "hide_input": false
   },
   "source": [
    "# Psychopharmacology"
   ]
  },
  {
   "cell_type": "markdown",
   "metadata": {},
   "source": [
    "## A Quick Overview"
   ]
  },
  {
   "cell_type": "markdown",
   "metadata": {},
   "source": [
    "Drugs used in psychiatry almost always target neurotransmitters in the brain. Here's a quick review of some of the neurotransmitters we'll come across.\n",
    "\n",
    "My main reference for this presentation is [Kaplan and Saddock, which everyone at Monash has online access to through the library.](https://monash.hosted.exlibrisgroup.com/primo-explore/fulldisplay?docid=catau51316803080001751&context=L&vid=MONUI&search_scope=au_everything&isFrbr=true&tab=default_tab&lang=en_US)\n",
    "\n",
    "### Serotonin (aka 5-HT, aka 5-hydroxytryptamine).\n",
    "\n",
    "- Comes from *raphe nuclei* ('seam') near medial aspect of brainstem.\n",
    "- Raphe nuclei has a  median and dorsal part.\n",
    "- Behavioural (e.g. sleep cycle, mood, arousal).\n",
    "\n",
    "### Noradrenaline (aka norepinephrine).\n",
    "\n",
    "- Comes from *locus coeruleus* in the pons.\n",
    "- Goes everywhere (almost). \n",
    "- Stress response\n",
    "- α and β receptors.\n",
    "\n",
    "\n",
    "### Dopamine\n",
    "\n",
    "| Pathway | Nigrostriatal | Mesolimbic | Mesocortical | Tuberoinfundibular | \n",
    "|------------|---------|-----|---|------|\n",
    "| Source     | Substantia nigra | VTA | VTA | Arcuate nucleus | \n",
    "| Target     | Dorsal striatum | Ventral striatum | Cortex | Pituitary stalk (\"infundibulum\") |\n",
    "| Association | Movement | Motivation/addiction | Cognition | *Inhibits* lactation | \n",
    "\n",
    "- Five receptors (D1 - D5) \n",
    "- Atypicals block D2 without much impact on D1. \n",
    "- Match effects with pathways:\n",
    "    - Nigrostriatal -> extrapyramidal symptoms\n",
    "    - Tuberoinfundibular -> galactorrhoea -> menstrual dysfunction, sexual dysfunction, reduced bone density. (especially D2-avid, e.g. risperidone)\n",
    "\n",
    "### Acetylcholine\n",
    "\n",
    "\n",
    "Groupings:\n",
    "\n",
    "1. The monoamines = Serotonin, Dopamine, Noradrenaline.\n",
    "2. The catecholamines = Dopamine, Noradrenaline, (Adrenaline). \n",
    "    - Come from a common pathway (tyrosine -> dopa -> dopamine -> noradrenaline -> adrenaline). "
   ]
  },
  {
   "cell_type": "code",
   "execution_count": 476,
   "metadata": {},
   "outputs": [
    {
     "data": {
      "text/plain": [
       "brain (generic function with 1 method)"
      ]
     },
     "execution_count": 476,
     "metadata": {},
     "output_type": "execute_result"
    }
   ],
   "source": [
    "function brain()\n",
    "    \n",
    "    gsave()\n",
    "    \n",
    "    sethue(0.8, 0.7, 0.8)\n",
    "    ellipse(Point(0,0), 120, 100, :fillstroke)\n",
    "    circle(0, 25, 35, :fillstroke)\n",
    "    ellipse(0, 65, 30, 50, :fillstroke)\n",
    "    box(0, 60, 20, 100, :fillstroke)\n",
    "    \n",
    "#     sethue(1,1,1)\n",
    "#     fontsize(16)\n",
    "#     fontface(\"Helvetica-Bold\")\n",
    "#     text(\"BRAIN\", 0, 0, halign=:center)\n",
    "    \n",
    "    grestore()\n",
    "    \n",
    "end"
   ]
  },
  {
   "cell_type": "code",
   "execution_count": 415,
   "metadata": {},
   "outputs": [
    {
     "data": {
      "text/plain": [
       "title (generic function with 1 method)"
      ]
     },
     "execution_count": 415,
     "metadata": {},
     "output_type": "execute_result"
    }
   ],
   "source": [
    "function title(string)\n",
    "    gsave()\n",
    "    fontface(\"Helvetica-Bold\")\n",
    "    fontsize(20)\n",
    "    sethue(0,0,0)\n",
    "    text(string, 0, 200, halign=:center)\n",
    "    grestore()\n",
    "end"
   ]
  },
  {
   "cell_type": "code",
   "execution_count": null,
   "metadata": {},
   "outputs": [],
   "source": []
  },
  {
   "cell_type": "code",
   "execution_count": 477,
   "metadata": {
    "scrolled": false
   },
   "outputs": [
    {
     "data": {
      "image/png": "[encoded data removed]"
     },
     "metadata": {},
     "output_type": "display_data"
    }
   ],
   "source": [
    "@img \"serotonin-source\" begin\n",
    "    \n",
    "    translate(-30,-70)\n",
    "    \n",
    "    gsave()\n",
    "    translate(-50, 0)\n",
    "    brain()\n",
    "    grestore()\n",
    "    \n",
    "    r_pin = 5\n",
    "    \n",
    "    circle(-50,60, r_pin,:stroke)\n",
    "    line(Point(-50+r_pin,60), Point(40,60), :stroke)\n",
    "    arrow(Point(-50, 60+r_pin), Point(-50, 150))\n",
    "    arrow(Point(-50, 60-r_pin), Point(-50, 5))\n",
    "    \n",
    "    fontface(\"Helvetica-Bold\")\n",
    "    fontsize(15)\n",
    "    text(\"RAPHE NUCLEI\", 50, 60, valign=:middle)\n",
    "    fontface(\"Helvetica\")\n",
    "    textwrap(\"Contains neurons which produce serotonin.\", 200, Point(50,70))\n",
    "    \n",
    "    fontsize(13)\n",
    "    fontface(\"Helvetica-Bold\")\n",
    "    text(\"DORSAL HORN\", -70, 130, halign=:right)\n",
    "    fontface(\"Helvetica\")\n",
    "    text(\"Suppresses pain.\", -70, 150, halign=:right)\n",
    "    \n",
    "    title(\"SEROTONIN\")\n",
    "    \n",
    "end"
   ]
  },
  {
   "cell_type": "code",
   "execution_count": 320,
   "metadata": {},
   "outputs": [
    {
     "data": {
      "text/plain": [
       "brainside (generic function with 1 method)"
      ]
     },
     "execution_count": 320,
     "metadata": {},
     "output_type": "execute_result"
    }
   ],
   "source": [
    "function brainside()\n",
    "    \n",
    "    gsave()\n",
    "    \n",
    "    sethue(0.8, 0.7, 0.8)\n",
    "    ellipse(Point(0,0), 160, 100, :fillstroke)\n",
    "    circle(40, 15, 50, :fillstroke)\n",
    "    circle(30, 55, 30, :fillstroke)\n",
    "    circle(-7.5, 50, 5, :fillstroke)\n",
    "    ellipse(10, 65, 30, 50, :fillstroke)\n",
    "    box(20, 60, 20, 100, :fillstroke)\n",
    "    \n",
    "#     sethue(1,1,1)\n",
    "#     fontsize(16)\n",
    "#     fontface(\"Helvetica-Bold\")\n",
    "#     text(\"BRAIN\", 0, 0, halign=:center)\n",
    "    \n",
    "    grestore()\n",
    "    \n",
    "end\n",
    "    "
   ]
  },
  {
   "cell_type": "code",
   "execution_count": 488,
   "metadata": {},
   "outputs": [
    {
     "name": "stdout",
     "output_type": "stream",
     "text": [
      "search: \u001b[0m\u001b[1mb\u001b[22m\u001b[0m\u001b[1ma\u001b[22m\u001b[0m\u001b[1mc\u001b[22m\u001b[0m\u001b[1mk\u001b[22m\u001b[0m\u001b[1mg\u001b[22m\u001b[0m\u001b[1mr\u001b[22m\u001b[0m\u001b[1mo\u001b[22m\u001b[0m\u001b[1mu\u001b[22m\u001b[0m\u001b[1mn\u001b[22m\u001b[0m\u001b[1md\u001b[22m non_\u001b[0m\u001b[1mb\u001b[22m\u001b[0m\u001b[1ma\u001b[22m\u001b[0m\u001b[1mc\u001b[22m\u001b[0m\u001b[1mk\u001b[22mtrackin\u001b[0m\u001b[1mg\u001b[22m_\u001b[0m\u001b[1mr\u001b[22mand\u001b[0m\u001b[1mo\u001b[22mmwalk\n",
      "\n"
     ]
    },
    {
     "data": {
      "text/latex": [
       "\\begin{verbatim}\n",
       "background(color)\n",
       "\\end{verbatim}\n",
       "Fill the canvas with a single color. Returns the (red, green, blue, alpha) values.\n",
       "\n",
       "Examples:\n",
       "\n",
       "\\begin{verbatim}\n",
       "background(\"antiquewhite\")\n",
       "background(\"ivory\")\n",
       "\\end{verbatim}\n",
       "If Colors.jl is installed:\n",
       "\n",
       "\\begin{verbatim}\n",
       "background(RGB(0, 0, 0))\n",
       "background(Luv(20, -20, 30))\n",
       "\\end{verbatim}\n",
       "If you don't specify a background color for a PNG drawing, the background will be transparent. You can set a partly or completely transparent background for PNG files by passing a color with an alpha value, such as this 'transparent black':\n",
       "\n",
       "\\begin{verbatim}\n",
       "background(RGBA(0, 0, 0, 0))\n",
       "\\end{verbatim}\n",
       "or\n",
       "\n",
       "\\begin{verbatim}\n",
       "background(0, 0, 0, 0)\n",
       "\\end{verbatim}\n",
       "Because this sets the current alpha level to 0.0, change it to something more visible before you start drawing.\n",
       "\n",
       "Returns the colors in a tuple.\n",
       "\n"
      ],
      "text/markdown": [
       "```\n",
       "background(color)\n",
       "```\n",
       "\n",
       "Fill the canvas with a single color. Returns the (red, green, blue, alpha) values.\n",
       "\n",
       "Examples:\n",
       "\n",
       "```\n",
       "background(\"antiquewhite\")\n",
       "background(\"ivory\")\n",
       "```\n",
       "\n",
       "If Colors.jl is installed:\n",
       "\n",
       "```\n",
       "background(RGB(0, 0, 0))\n",
       "background(Luv(20, -20, 30))\n",
       "```\n",
       "\n",
       "If you don't specify a background color for a PNG drawing, the background will be transparent. You can set a partly or completely transparent background for PNG files by passing a color with an alpha value, such as this 'transparent black':\n",
       "\n",
       "```\n",
       "background(RGBA(0, 0, 0, 0))\n",
       "```\n",
       "\n",
       "or\n",
       "\n",
       "```\n",
       "background(0, 0, 0, 0)\n",
       "```\n",
       "\n",
       "Because this sets the current alpha level to 0.0, change it to something more visible before you start drawing.\n",
       "\n",
       "Returns the colors in a tuple.\n"
      ],
      "text/plain": [
       "\u001b[36m  background(color)\u001b[39m\n",
       "\n",
       "  Fill the canvas with a single color. Returns the (red, green, blue, alpha)\n",
       "  values.\n",
       "\n",
       "  Examples:\n",
       "\n",
       "\u001b[36m  background(\"antiquewhite\")\u001b[39m\n",
       "\u001b[36m  background(\"ivory\")\u001b[39m\n",
       "\n",
       "  If Colors.jl is installed:\n",
       "\n",
       "\u001b[36m  background(RGB(0, 0, 0))\u001b[39m\n",
       "\u001b[36m  background(Luv(20, -20, 30))\u001b[39m\n",
       "\n",
       "  If you don't specify a background color for a PNG drawing, the background\n",
       "  will be transparent. You can set a partly or completely transparent\n",
       "  background for PNG files by passing a color with an alpha value, such as\n",
       "  this 'transparent black':\n",
       "\n",
       "\u001b[36m  background(RGBA(0, 0, 0, 0))\u001b[39m\n",
       "\n",
       "  or\n",
       "\n",
       "\u001b[36m  background(0, 0, 0, 0)\u001b[39m\n",
       "\n",
       "  Because this sets the current alpha level to 0.0, change it to something\n",
       "  more visible before you start drawing.\n",
       "\n",
       "  Returns the colors in a tuple."
      ]
     },
     "execution_count": 488,
     "metadata": {},
     "output_type": "execute_result"
    }
   ],
   "source": [
    "?background"
   ]
  },
  {
   "cell_type": "code",
   "execution_count": 444,
   "metadata": {},
   "outputs": [
    {
     "data": {
      "image/png": "[encoded data removed]"
     },
     "metadata": {},
     "output_type": "display_data"
    }
   ],
   "source": [
    "@img \"dopamine-source\" begin\n",
    "    \n",
    "    translate(-30,-40)\n",
    "    \n",
    "    gsave()\n",
    "    translate(-50, 0)\n",
    "    brainside()\n",
    "    grestore()\n",
    "    \n",
    "    r_pin = 3\n",
    "    fontface(\"Helvetica-Bold\")\n",
    "    fontsize(15)\n",
    "    \n",
    "    sethue(0.6, 0.3, 0.3)\n",
    "    hx, hy = -37.5, 30\n",
    "    circle(hx, hy, r_pin, :stroke)\n",
    "    arrow(Point(hx-r_pin, hy), Point(hx-22.5, hy+22.5))   \n",
    "    text(\"4\", Point(hx-22.5-10, hy+22.5+10), halign=:right)\n",
    "    text(\"4) \\\"Don't lactate\\\" pathway\", 80, 100)\n",
    "    fontface(\"Helvetica\")\n",
    "    text(\"(tubero-infundibular)\", 100, 120)\n",
    "    \n",
    "    sethue(0,0,0)\n",
    "    snx, sny = -30, 50\n",
    "    circle(snx, sny,r_pin,:stroke)\n",
    "    arrow(Point(snx, sny-r_pin), Point(snx, sny-50))\n",
    "    fontface(\"Helvetica-Bold\")\n",
    "    text(\"1\", Point(snx, sny-55), valign=:bottom, halign=:center)\n",
    "    text(\"1)  Movement pathway\", 80, -50)\n",
    "    fontface(\"Helvetica\")\n",
    "    text(\"(nigro-striatal)\", 100, -30)\n",
    "    \n",
    "    sethue(0, 0.2, 0.4)\n",
    "    vtax, vtay = -40, 60\n",
    "    circle(vtax, vtay, r_pin, :stroke)\n",
    "    \n",
    "    arrow(Point(vtax, vtay-r_pin), Point(vtax, vtay-30), Point(vtax-5, vtay-35), Point(vtax-25, vtay-35))\n",
    "    fontface(\"Helvetica-Bold\")\n",
    "    text(\"3\", Point(vtax-30, vtay-35), halign=:right, valign=:middle)\n",
    "    text(\"3)  Reward pathway\", 80, 50)\n",
    "    fontface(\"Helvetica\")\n",
    "    text(\"(meso-limbic)\", 100, 70)\n",
    "    \n",
    "    arrow(Point(vtax, vtay-r_pin), Point(vtax, vtay-60), Point(vtax-20, 0), Point(-125, 0))\n",
    "    fontface(\"Helvetica-Bold\")\n",
    "    text(\"2\", Point(-135,0), halign=:right, valign=:middle)\n",
    "    text(\"2)  Cognitive pathway\", 80, 0)\n",
    "    fontface(\"Helvetica\")\n",
    "    text(\"(meso-cortical)\", 100, 20)\n",
    "    \n",
    "    title(\"DOPAMINE\")\n",
    "    \n",
    "end"
   ]
  },
  {
   "cell_type": "code",
   "execution_count": 471,
   "metadata": {},
   "outputs": [
    {
     "data": {
      "text/plain": [
       "label (generic function with 1 method)"
      ]
     },
     "execution_count": 471,
     "metadata": {},
     "output_type": "execute_result"
    }
   ],
   "source": [
    "function label(main, subtext, xmin, ymin)\n",
    "    gsave()\n",
    "    \n",
    "    sethue(0,0,0)\n",
    "    fontsize(15)\n",
    "    fontface(\"Helvetica-Bold\")\n",
    "    text(main, xmin, ymin, valign=:middle)\n",
    "    \n",
    "    fontface(\"Helvetica\")\n",
    "    textwrap(subtext, 200, Point(xmin, ymin+10))\n",
    "    \n",
    "    grestore()\n",
    "end"
   ]
  },
  {
   "cell_type": "code",
   "execution_count": 473,
   "metadata": {},
   "outputs": [
    {
     "data": {
      "image/png": "[encoded data removed]"
     },
     "metadata": {},
     "output_type": "display_data"
    }
   ],
   "source": [
    "@img noradrenaline-sorurce begin\n",
    "\n",
    "    \n",
    "    translate(-100,-30)\n",
    "    brainside()    \n",
    "    r_pin = 5\n",
    "    circle(30, 65, r_pin, :stroke)\n",
    "    line(Point(30+r_pin,65), Point(120, 65), :stroke)\n",
    "    \n",
    "    label(\"LOCUS COERULEUS\", \"Contains neurons releasing noradrenaline.\", 130, 65)\n",
    "\n",
    "end"
   ]
  },
  {
   "cell_type": "code",
   "execution_count": 323,
   "metadata": {},
   "outputs": [
    {
     "ename": "LoadError",
     "evalue": "MethodError: no method matching @slide(::LineNumberNode, ::Module, ::String, ::String, ::String, ::String)\nClosest candidates are:\n  @slide(::LineNumberNode, ::Module, ::Any, ::Any, ::Any, ::Any, !Matched::Any, !Matched::Any, !Matched::Any, !Matched::Any) at In[12]:2",
     "output_type": "error",
     "traceback": [
      "MethodError: no method matching @slide(::LineNumberNode, ::Module, ::String, ::String, ::String, ::String)\nClosest candidates are:\n  @slide(::LineNumberNode, ::Module, ::Any, ::Any, ::Any, ::Any, !Matched::Any, !Matched::Any, !Matched::Any, !Matched::Any) at In[12]:2",
      ""
     ]
    }
   ],
   "source": [
    "@slide(\n",
    "    \"Serotonin\",\n",
    "    \"\",\n",
    "    \"\",\n",
    "    \"\",\n",
    ")"
   ]
  },
  {
   "cell_type": "code",
   "execution_count": 13,
   "metadata": {},
   "outputs": [
    {
     "data": {
      "image/png": "[encoded data removed]"
     },
     "metadata": {},
     "output_type": "display_data"
    }
   ],
   "source": [
    "@slide(\n",
    "    \"Test\",\n",
    "    \"test scenario\",\n",
    "    \"test suggestion\",\n",
    "    \"test rationale\",\n",
    "    \"test example stem\",\n",
    "    \"test example answer\",\n",
    "    \"test_graphic_name.png\",\n",
    "    circle(0, 0, 50, :stroke)\n",
    ")"
   ]
  },
  {
   "cell_type": "markdown",
   "metadata": {},
   "source": [
    "# Outline"
   ]
  },
  {
   "cell_type": "code",
   "execution_count": 493,
   "metadata": {},
   "outputs": [
    {
     "data": {
      "text/plain": [
       "0"
      ]
     },
     "execution_count": 493,
     "metadata": {},
     "output_type": "execute_result"
    }
   ],
   "source": [
    "length(Dict())"
   ]
  },
  {
   "cell_type": "code",
   "execution_count": 497,
   "metadata": {},
   "outputs": [
    {
     "name": "stdout",
     "output_type": "stream",
     "text": [
      "search: \u001b[0m\u001b[1me\u001b[22m\u001b[0m\u001b[1mn\u001b[22m\u001b[0m\u001b[1mu\u001b[22m\u001b[0m\u001b[1mm\u001b[22m\u001b[0m\u001b[1me\u001b[22m\u001b[0m\u001b[1mr\u001b[22m\u001b[0m\u001b[1ma\u001b[22m\u001b[0m\u001b[1mt\u001b[22m\u001b[0m\u001b[1me\u001b[22m \u001b[0m\u001b[1me\u001b[22m\u001b[0m\u001b[1mn\u001b[22m\u001b[0m\u001b[1mu\u001b[22m\u001b[0m\u001b[1mm\u001b[22m\u001b[0m\u001b[1me\u001b[22m\u001b[0m\u001b[1mr\u001b[22m\u001b[0m\u001b[1ma\u001b[22m\u001b[0m\u001b[1mt\u001b[22m\u001b[0m\u001b[1me\u001b[22m_paths\n",
      "\n"
     ]
    },
    {
     "data": {
      "text/latex": [
       "\\begin{verbatim}\n",
       "enumerate(iter)\n",
       "\\end{verbatim}\n",
       "An iterator that yields \\texttt{(i, x)} where \\texttt{i} is a counter starting at 1, and \\texttt{x} is the \\texttt{i}th value from the given iterator. It's useful when you need not only the values \\texttt{x} over which you are iterating, but also the number of iterations so far. Note that \\texttt{i} may not be valid for indexing \\texttt{iter}; it's also possible that \\texttt{x != iter[i]}, if \\texttt{iter} has indices that do not start at 1. See the \\texttt{enumerate(IndexLinear(), iter)} method if you want to ensure that \\texttt{i} is an index.\n",
       "\n",
       "\\section{Examples}\n",
       "\\begin{verbatim}\n",
       "julia> a = [\"a\", \"b\", \"c\"];\n",
       "\n",
       "julia> for (index, value) in enumerate(a)\n",
       "           println(\"$index $value\")\n",
       "       end\n",
       "1 a\n",
       "2 b\n",
       "3 c\n",
       "\\end{verbatim}\n"
      ],
      "text/markdown": [
       "```\n",
       "enumerate(iter)\n",
       "```\n",
       "\n",
       "An iterator that yields `(i, x)` where `i` is a counter starting at 1, and `x` is the `i`th value from the given iterator. It's useful when you need not only the values `x` over which you are iterating, but also the number of iterations so far. Note that `i` may not be valid for indexing `iter`; it's also possible that `x != iter[i]`, if `iter` has indices that do not start at 1. See the `enumerate(IndexLinear(), iter)` method if you want to ensure that `i` is an index.\n",
       "\n",
       "# Examples\n",
       "\n",
       "```jldoctest\n",
       "julia> a = [\"a\", \"b\", \"c\"];\n",
       "\n",
       "julia> for (index, value) in enumerate(a)\n",
       "           println(\"$index $value\")\n",
       "       end\n",
       "1 a\n",
       "2 b\n",
       "3 c\n",
       "```\n"
      ],
      "text/plain": [
       "\u001b[36m  enumerate(iter)\u001b[39m\n",
       "\n",
       "  An iterator that yields \u001b[36m(i, x)\u001b[39m where \u001b[36mi\u001b[39m is a counter starting at 1, and \u001b[36mx\u001b[39m is\n",
       "  the \u001b[36mi\u001b[39mth value from the given iterator. It's useful when you need not only\n",
       "  the values \u001b[36mx\u001b[39m over which you are iterating, but also the number of iterations\n",
       "  so far. Note that \u001b[36mi\u001b[39m may not be valid for indexing \u001b[36miter\u001b[39m; it's also possible\n",
       "  that \u001b[36mx != iter[i]\u001b[39m, if \u001b[36miter\u001b[39m has indices that do not start at 1. See the\n",
       "  \u001b[36menumerate(IndexLinear(), iter)\u001b[39m method if you want to ensure that \u001b[36mi\u001b[39m is an\n",
       "  index.\n",
       "\n",
       "\u001b[1m  Examples\u001b[22m\n",
       "\u001b[1m  ≡≡≡≡≡≡≡≡≡≡\u001b[22m\n",
       "\n",
       "\u001b[36m  julia> a = [\"a\", \"b\", \"c\"];\u001b[39m\n",
       "\u001b[36m  \u001b[39m\n",
       "\u001b[36m  julia> for (index, value) in enumerate(a)\u001b[39m\n",
       "\u001b[36m             println(\"$index $value\")\u001b[39m\n",
       "\u001b[36m         end\u001b[39m\n",
       "\u001b[36m  1 a\u001b[39m\n",
       "\u001b[36m  2 b\u001b[39m\n",
       "\u001b[36m  3 c\u001b[39m"
      ]
     },
     "execution_count": 497,
     "metadata": {},
     "output_type": "execute_result"
    }
   ],
   "source": [
    "?enumerate"
   ]
  },
  {
   "cell_type": "code",
   "execution_count": 500,
   "metadata": {},
   "outputs": [
    {
     "data": {
      "text/plain": [
       "-1.5"
      ]
     },
     "execution_count": 500,
     "metadata": {},
     "output_type": "execute_result"
    }
   ],
   "source": [
    "1 - 5 / 2"
   ]
  },
  {
   "cell_type": "code",
   "execution_count": 501,
   "metadata": {},
   "outputs": [
    {
     "data": {
      "text/plain": [
       "Dict{String,String} with 2 entries:\n",
       "  \"t\" => \"v\"\n",
       "  \"a\" => \"b\""
      ]
     },
     "execution_count": 501,
     "metadata": {},
     "output_type": "execute_result"
    }
   ],
   "source": [
    "test = Dict(\n",
    "\"t\" => \"v\", \n",
    "\"a\" => \"b\")"
   ]
  },
  {
   "cell_type": "code",
   "execution_count": 506,
   "metadata": {},
   "outputs": [
    {
     "name": "stdout",
     "output_type": "stream",
     "text": [
      "t\n",
      "a\n"
     ]
    }
   ],
   "source": [
    "for val in test\n",
    "    println(val[1])\n",
    "end"
   ]
  },
  {
   "cell_type": "code",
   "execution_count": 496,
   "metadata": {},
   "outputs": [
    {
     "data": {
      "text/plain": [
       "Point(30.0, 20.0)"
      ]
     },
     "execution_count": 496,
     "metadata": {},
     "output_type": "execute_result"
    }
   ],
   "source": [
    "O + (30, 20)"
   ]
  },
  {
   "cell_type": "code",
   "execution_count": 530,
   "metadata": {},
   "outputs": [
    {
     "data": {
      "text/latex": [
       "\\begin{verbatim}\n",
       "bezier(t, A::Point, A1::Point, B1::Point, B::Point)\n",
       "\\end{verbatim}\n",
       "Return the result of evaluating the Bezier cubic curve function, \\texttt{t} going from 0 to 1, starting at A, finishing at B, control points A1 (controlling A), and B1 (controlling B).\n",
       "\n"
      ],
      "text/markdown": [
       "```\n",
       "bezier(t, A::Point, A1::Point, B1::Point, B::Point)\n",
       "```\n",
       "\n",
       "Return the result of evaluating the Bezier cubic curve function, `t` going from 0 to 1, starting at A, finishing at B, control points A1 (controlling A), and B1 (controlling B).\n"
      ],
      "text/plain": [
       "\u001b[36m  bezier(t, A::Point, A1::Point, B1::Point, B::Point)\u001b[39m\n",
       "\n",
       "  Return the result of evaluating the Bezier cubic curve function, \u001b[36mt\u001b[39m going\n",
       "  from 0 to 1, starting at A, finishing at B, control points A1 (controlling\n",
       "  A), and B1 (controlling B)."
      ]
     },
     "execution_count": 530,
     "metadata": {},
     "output_type": "execute_result"
    }
   ],
   "source": [
    "?Luxor.bezier"
   ]
  },
  {
   "cell_type": "code",
   "execution_count": 561,
   "metadata": {},
   "outputs": [
    {
     "name": "stdout",
     "output_type": "stream",
     "text": [
      "search: \u001b[0m\u001b[1mO\u001b[22m\u001b[0m\u001b[1mr\u001b[22m\u001b[0m\u001b[1md\u001b[22m\u001b[0m\u001b[1me\u001b[22m\u001b[0m\u001b[1mr\u001b[22m\u001b[0m\u001b[1me\u001b[22m\u001b[0m\u001b[1md\u001b[22m\u001b[0m\u001b[1mD\u001b[22m\u001b[0m\u001b[1mi\u001b[22m\u001b[0m\u001b[1mc\u001b[22m\u001b[0m\u001b[1mt\u001b[22m Default\u001b[0m\u001b[1mO\u001b[22m\u001b[0m\u001b[1mr\u001b[22m\u001b[0m\u001b[1md\u001b[22m\u001b[0m\u001b[1me\u001b[22m\u001b[0m\u001b[1mr\u001b[22m\u001b[0m\u001b[1me\u001b[22m\u001b[0m\u001b[1md\u001b[22m\u001b[0m\u001b[1mD\u001b[22m\u001b[0m\u001b[1mi\u001b[22m\u001b[0m\u001b[1mc\u001b[22m\u001b[0m\u001b[1mt\u001b[22m\n",
      "\n"
     ]
    },
    {
     "data": {
      "text/latex": [
       "\\begin{verbatim}\n",
       "OrderedDict\n",
       "\\end{verbatim}\n",
       "\\texttt{OrderedDict}s are  simply dictionaries  whose entries  have a  particular order.  The order refers to insertion order, which allows deterministic iteration over the dictionary or set.\n",
       "\n"
      ],
      "text/markdown": [
       "```\n",
       "OrderedDict\n",
       "```\n",
       "\n",
       "`OrderedDict`s are  simply dictionaries  whose entries  have a  particular order.  The order refers to insertion order, which allows deterministic iteration over the dictionary or set.\n"
      ],
      "text/plain": [
       "\u001b[36m  OrderedDict\u001b[39m\n",
       "\n",
       "  \u001b[36mOrderedDict\u001b[39ms are simply dictionaries whose entries have a particular order.\n",
       "  The order refers to insertion order, which allows deterministic iteration\n",
       "  over the dictionary or set."
      ]
     },
     "execution_count": 561,
     "metadata": {},
     "output_type": "execute_result"
    }
   ],
   "source": [
    "?OrderedDict"
   ]
  },
  {
   "cell_type": "code",
   "execution_count": 590,
   "metadata": {},
   "outputs": [
    {
     "data": {
      "text/plain": [
       "treesplit (generic function with 2 methods)"
      ]
     },
     "execution_count": 590,
     "metadata": {},
     "output_type": "execute_result"
    }
   ],
   "source": [
    "function treesplit(root :: String, labels :: OrderedDict{String, String};\n",
    "                    xscale :: Float64 = 1, yscale :: Float64 = 1)\n",
    "\n",
    "    gsave()\n",
    "    fontsize(11)\n",
    "    numlabels = length(labels)\n",
    "    yspacing = 30 * yscale\n",
    "    xdist = 120 * xscale\n",
    "    r_pin = 1\n",
    "    \n",
    "    for (i, entry) in enumerate(labels)\n",
    "        ypos = (i - 0.5 - numlabels / 2) * yspacing\n",
    "        setcolor(entry[2])\n",
    "        move(O)\n",
    "        curve(O + (xdist/2, 0), O + (xdist/2,ypos), O + (xdist, ypos))\n",
    "        strokepath()\n",
    "        circle(O + (xdist, ypos), r_pin, :fillstroke)\n",
    "        text(entry[1], Point(xdist + 10, ypos), valign=:middle)\n",
    "    end\n",
    "    \n",
    "    sethue(0,0,0)\n",
    "    fontface(\"Helvetica-Bold\")\n",
    "    text(root, -5, 0, valign=:middle, halign=:right)\n",
    "    grestore()\n",
    "    \n",
    "end"
   ]
  },
  {
   "cell_type": "code",
   "execution_count": 628,
   "metadata": {},
   "outputs": [
    {
     "data": {
      "image/png": "[encoded data removed]"
     },
     "metadata": {},
     "output_type": "display_data"
    }
   ],
   "source": [
    "@img \"antidepressants\" begin\n",
    "    labels = OrderedDict(\n",
    "        \"SSRIs\" => \"green\",\n",
    "        \"TCAs\" => \"green\",\n",
    "        \"MAOIs\" => \"green\",\n",
    "        \"SNRIs\" => \"blue\",\n",
    "        \"NRIs\" => \"blue\",\n",
    "        \"NSSAs\" => \"blue\",\n",
    "        \"Melantonergic agonist\" => \"blue\",\n",
    "        \"α2 antagonist\" => \"blue\",\n",
    "        \"Partial serotonin agonist\" => \"red\",\n",
    "        \"Noradrenaline-Dopamine reuptake inhibitors\" => \"red\",\n",
    "        \"Serotonin agonist/reuptake inhibitor\" => \"red\",\n",
    "    )\n",
    "    translate(-100,0)\n",
    "    treesplit(\"ANTI-DEPRESSANTS\", labels, xscale=1.0, yscale=0.75)\n",
    "end"
   ]
  },
  {
   "cell_type": "code",
   "execution_count": 582,
   "metadata": {},
   "outputs": [
    {
     "data": {
      "image/png": "[encoded data removed]"
     },
     "metadata": {},
     "output_type": "display_data"
    }
   ],
   "source": [
    "@img \"mood-stabilisers\" begin\n",
    "    labels = OrderedDict(\n",
    "        \"Lithium\" => \"green\",\n",
    "        \"Sodium valproate\" => \"green\",\n",
    "        \"Carbamazepine\" => \"blue\",\n",
    "        \"Lamotrigine\" => \"red\",\n",
    "    )\n",
    "    translate(-100,0)\n",
    "    treesplit(\"MOOD STABILISERS\", labels, xscale=1.0, yscale=1.0)\n",
    "end"
   ]
  },
  {
   "cell_type": "code",
   "execution_count": 610,
   "metadata": {},
   "outputs": [
    {
     "data": {
      "image/png": "[encoded data removed]"
     },
     "metadata": {},
     "output_type": "display_data"
    }
   ],
   "source": [
    "@img \"anti-psychotics\" begin\n",
    "    labels1 = OrderedDict(\n",
    "        \"Typical\" => \"green\",\n",
    "        \"Atypical\" => \"green\",\n",
    "    )\n",
    "    \n",
    "    yscale = 6.0\n",
    "    \n",
    "    translate(-100,0)\n",
    "    treesplit(\"ANTI-PSYCHOTICS\", labels1, xscale=0.1, yscale=yscale)\n",
    "    \n",
    "\n",
    "    translate(70,-15 * yscale)\n",
    "    labels_typical = OrderedDict(\n",
    "        \"Chlorpromazine\" => \"green\",\n",
    "    )\n",
    "    treesplit(\"\", labels_typical, xscale=0.3, yscale=1.0)\n",
    "    \n",
    "    translate(0,30 * yscale)\n",
    "    labels_atypical = OrderedDict(\n",
    "        \"Olanzepine\" => \"green\",\n",
    "        \"Risperidone\" => \"green\",\n",
    "        \"Paliperidone\" => \"green\",\n",
    "    )\n",
    "    treesplit(\"\", labels_atypical, xscale=0.3, yscale=1.0)\n",
    "    \n",
    "    \n",
    "end"
   ]
  },
  {
   "cell_type": "code",
   "execution_count": 621,
   "metadata": {},
   "outputs": [
    {
     "data": {
      "image/png": "[encoded data removed]"
     },
     "metadata": {},
     "output_type": "display_data"
    }
   ],
   "source": [
    "@img \"sedatives\" begin\n",
    "    translate(-100, 0)\n",
    "    labels = OrderedDict(\n",
    "        \"Benzodiazepines\" => \"green\",\n",
    "        \"Zolpidem\" => \"blue\",\n",
    "        \"Zopiclone\" => \"blue\",\n",
    "    )\n",
    "    \n",
    "    treesplit(\"SEDATIVES\", labels, xscale=0.5, yscale=1.0)\n",
    "    \n",
    "    \n",
    "    translate(160, -30)\n",
    "    labels_benzos = OrderedDict(\n",
    "        \"Midazolam\" => \"green\",\n",
    "        \"Alprazolam\" => \"green\",\n",
    "        \"Oxazepam\" => \"green\",\n",
    "        \"Lorazepam\" => \"green\",\n",
    "    )\n",
    "    \n",
    "    treesplit(\"\", labels_benzos, xscale=0.5, yscale=1.0)\n",
    "end"
   ]
  },
  {
   "cell_type": "code",
   "execution_count": 614,
   "metadata": {},
   "outputs": [
    {
     "data": {
      "image/png": "[encoded data removed]"
     },
     "metadata": {},
     "output_type": "display_data"
    }
   ],
   "source": [
    "@img \"neurostimulation\" begin\n",
    "    labels = OrderedDict(\n",
    "        \"ECT\" => \"green\",\n",
    "        \"Transmagentic stimulation\" => \"blue\",\n",
    "        \"Psychosurgery\" => \"red\"\n",
    "    )\n",
    "    \n",
    "    treesplit(\"NEUROSTIMULATION\", labels, xscale=1.0, yscale=1.0)\n",
    "end"
   ]
  },
  {
   "cell_type": "code",
   "execution_count": 623,
   "metadata": {},
   "outputs": [
    {
     "data": {
      "image/png": "[encoded data removed]"
     },
     "metadata": {},
     "output_type": "display_data"
    }
   ],
   "source": [
    "@img \"psychotherapy\" begin\n",
    "    labels = OrderedDict(\n",
    "        \"CBT\" => \"blue\", \n",
    "        \"Psychodynamic psychotherapy\" => \"red\",\n",
    "        \"Supportive therapy\" => \"red\",\n",
    "        \"Family therapy\" => \"red\",\n",
    "        \"Motivational interviewing\" => \"red\",\n",
    "        \"DBT\" => \"red\",\n",
    "        \"Mentalisation-based therapy\" => \"red\"\n",
    "    )\n",
    "    \n",
    "    treesplit(\"PSYCHOTHERAPY\", labels, xscale=1.0, yscale=1.0)\n",
    "end"
   ]
  },
  {
   "cell_type": "code",
   "execution_count": 626,
   "metadata": {},
   "outputs": [
    {
     "data": {
      "image/png": "[encoded data removed]"
     },
     "metadata": {},
     "output_type": "display_data"
    }
   ],
   "source": [
    "@img \"contents\" begin\n",
    "    \n",
    "    translate(-80,0)\n",
    "    \n",
    "    labels = OrderedDict(\n",
    "        \"Biological\" => \"black\",\n",
    "        \"Psychological\" => \"black\",\n",
    "    )\n",
    "    \n",
    "    treesplit(\"Ψ Treatments\", labels, xscale=0.5, yscale=2.0)\n",
    "    \n",
    "    labels_bio = OrderedDict(\n",
    "        \"Antidepressants\" => \"black\",\n",
    "        \"Mood stabilisers\" => \"black\",\n",
    "        \"Antipyschotics\" => \"black\",\n",
    "        \"Sedatives\" => \"black\",\n",
    "        \"Neurostimulation\" => \"black\",\n",
    "    )\n",
    "    \n",
    "    translate(120, -30)\n",
    "    treesplit(\"\", labels_bio, xscale=0.5, yscale=1.0)\n",
    "end"
   ]
  },
  {
   "cell_type": "markdown",
   "metadata": {},
   "source": [
    "# Antidepressants"
   ]
  },
  {
   "cell_type": "code",
   "execution_count": null,
   "metadata": {},
   "outputs": [],
   "source": []
  }
 ],
 "metadata": {
  "@webio": {
   "lastCommId": null,
   "lastKernelId": null
  },
  "kernelspec": {
   "display_name": "Julia 1.1.0",
   "language": "julia",
   "name": "julia-1.1"
  },
  "language_info": {
   "file_extension": ".jl",
   "mimetype": "application/julia",
   "name": "julia",
   "version": "1.1.0"
  }
 },
 "nbformat": 4,
 "nbformat_minor": 2
}
