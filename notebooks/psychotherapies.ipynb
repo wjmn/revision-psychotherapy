{
 "cells": [
  {
   "cell_type": "markdown",
   "metadata": {},
   "source": [
    "# $\\Psi$ Therapies"
   ]
  },
  {
   "cell_type": "markdown",
   "metadata": {},
   "source": [
    "For questions, email jwu202 at student dot monash dot edu."
   ]
  },
  {
   "cell_type": "markdown",
   "metadata": {},
   "source": [
    "## What is this?"
   ]
  },
  {
   "cell_type": "markdown",
   "metadata": {},
   "source": [
    "This notebook generates the data and graphics for a psychotherapy revision lecture."
   ]
  },
  {
   "cell_type": "markdown",
   "metadata": {},
   "source": [
    "## How does it work?\n",
    "\n",
    "The presentation is a slide deck. Each slide in the deck states a concrete, actionable suggestion for clinical practice related to psychotherapy within the confines of medical student learning. Please note that this is for educational purposes only, and does not constitute medical advice. If you need further discouragement, then please also note it was written by a medical student.\n",
    "\n",
    "Each slide contains four pieces of data:\n",
    "\n",
    "1. A situation.\n",
    "2. A suggestion.\n",
    "3. The rationale.\n",
    "4. A concrete example.\n",
    "\n",
    "This slide deck is aimed at clinical students, so basic preclinical knowledge (e.g. pharmacology, neurotransmitters) is assumed. \n",
    "\n",
    "This notebook generates the slides (mostly just the graphics). The notebook mixes text descriptions with code blocks (in grey). The code is written in the [Julia](https://julialang.org/) programming language."
   ]
  },
  {
   "cell_type": "markdown",
   "metadata": {},
   "source": [
    "# Setup"
   ]
  },
  {
   "cell_type": "markdown",
   "metadata": {},
   "source": [
    "Graphics are made using [Luxor.jl](https://github.com/JuliaGraphics/Luxor.jl)."
   ]
  },
  {
   "cell_type": "code",
   "execution_count": 1,
   "metadata": {},
   "outputs": [],
   "source": [
    "# using Pkg\n",
    "# Pkg.add(\"JSON\")\n",
    "# Pkg.add(\"Luxor\")\n",
    "using Luxor\n",
    "using JSON"
   ]
  },
  {
   "cell_type": "markdown",
   "metadata": {},
   "source": [
    "Below, we define a convenience macro to ensure all images are a consistent shape and size."
   ]
  },
  {
   "cell_type": "code",
   "execution_count": 7,
   "metadata": {},
   "outputs": [
    {
     "data": {
      "text/plain": [
       "@img (macro with 1 method)"
      ]
     },
     "execution_count": 7,
     "metadata": {},
     "output_type": "execute_result"
    }
   ],
   "source": [
    "macro img(filename, expr)\n",
    "    quote\n",
    "        @png begin\n",
    "            $(esc(expr))\n",
    "            end 480 480 $(\"./graphics/$filename.png\")\n",
    "    end\n",
    "end"
   ]
  },
  {
   "cell_type": "code",
   "execution_count": 3,
   "metadata": {
    "scrolled": true
   },
   "outputs": [
    {
     "data": {
      "text/plain": [
       "(480, 480)"
      ]
     },
     "execution_count": 3,
     "metadata": {},
     "output_type": "execute_result"
    }
   ],
   "source": [
    "X, Y = 480, 480"
   ]
  },
  {
   "cell_type": "markdown",
   "metadata": {},
   "source": [
    "We first define an empty list of slides."
   ]
  },
  {
   "cell_type": "code",
   "execution_count": 4,
   "metadata": {},
   "outputs": [
    {
     "data": {
      "text/plain": [
       "0-element Array{Any,1}"
      ]
     },
     "execution_count": 4,
     "metadata": {},
     "output_type": "execute_result"
    }
   ],
   "source": [
    "slides = []"
   ]
  },
  {
   "cell_type": "markdown",
   "metadata": {},
   "source": [
    "We then define a convenience macro for making slides that will push a slide into the `slides` list and save the graphic information."
   ]
  },
  {
   "cell_type": "code",
   "execution_count": 12,
   "metadata": {},
   "outputs": [
    {
     "data": {
      "text/plain": [
       "@slide (macro with 1 method)"
      ]
     },
     "execution_count": 12,
     "metadata": {},
     "output_type": "execute_result"
    }
   ],
   "source": [
    "macro slide(name, scenario, suggestion, rationale, example_stem, example_answer, graphic_name, graphic)\n",
    "    quote\n",
    "        push!($(esc(slides)), Dict(\"scenario\" => $(scenario),\n",
    "            \"suggestion\" => $(suggestion),\n",
    "            \"rationale\" => $(rationale),\n",
    "            \"example_stem\" => $(example_stem),\n",
    "            \"example_answer\" => $(example_answer),\n",
    "            \"graphic_name\" => $(graphic_name),\n",
    "            ))\n",
    "        @img $(graphic_name) begin\n",
    "            $(esc(graphic))\n",
    "            end \n",
    "    end\n",
    "end"
   ]
  },
  {
   "cell_type": "markdown",
   "metadata": {
    "hide_input": false
   },
   "source": [
    "# Psychopharmacology"
   ]
  },
  {
   "cell_type": "markdown",
   "metadata": {},
   "source": [
    "## A Quick Overview"
   ]
  },
  {
   "cell_type": "markdown",
   "metadata": {},
   "source": [
    "Drugs used in psychiatry almost always target neurotransmitters in the brain. Here's a quick review of some of the neurotransmitters we'll come across.\n",
    "\n",
    "My main reference for this presentation is [Kaplan and Saddock, which everyone at Monash has online access to through the library.](https://monash.hosted.exlibrisgroup.com/primo-explore/fulldisplay?docid=catau51316803080001751&context=L&vid=MONUI&search_scope=au_everything&isFrbr=true&tab=default_tab&lang=en_US)\n",
    "\n",
    "### Serotonin (aka 5-HT, aka 5-hydroxytryptamine).\n",
    "\n",
    "- Comes from *raphe nuclei* ('seam') near medial aspect of brainstem.\n",
    "- Raphe nuclei has a  median and dorsal part.\n",
    "- Behavioural (e.g. sleep cycle, mood, arousal).\n",
    "\n",
    "### Noradrenaline (aka norepinephrine).\n",
    "\n",
    "- Comes from *locus coeruleus* in the pons.\n",
    "- Goes everywhere (almost). \n",
    "- Stress response\n",
    "- α and β receptors.\n",
    "\n",
    "\n",
    "### Dopamine\n",
    "\n",
    "| Pathway | Nigrostriatal | Mesolimbic | Mesocortical | Tuberoinfundibular | \n",
    "|------------|---------|-----|---|------|\n",
    "| Source     | Substantia nigra | VTA | VTA | Arcuate nucleus | \n",
    "| Target     | Dorsal striatum | Ventral striatum | Cortex | Pituitary stalk (\"infundibulum\") |\n",
    "| Association | Movement | Motivation/addiction | Cognition | *Inhibits* lactation | \n",
    "\n",
    "- Five receptors (D1 - D5) \n",
    "- Atypicals block D2 without much impact on D1. \n",
    "- Match effects with pathways:\n",
    "    - Nigrostriatal -> extrapyramidal symptoms\n",
    "    - Tuberoinfundibular -> galactorrhoea -> menstrual dysfunction, sexual dysfunction, reduced bone density. (especially D2-avid, e.g. risperidone)\n",
    "\n",
    "### Acetylcholine\n",
    "\n",
    "\n",
    "Groupings:\n",
    "\n",
    "1. The monoamines = Serotonin, Dopamine, Noradrenaline.\n",
    "2. The catecholamines = Dopamine, Noradrenaline, (Adrenaline). \n",
    "    - Come from a common pathway (tyrosine -> dopa -> dopamine -> noradrenaline -> adrenaline). "
   ]
  },
  {
   "cell_type": "code",
   "execution_count": 110,
   "metadata": {},
   "outputs": [
    {
     "data": {
      "text/latex": [
       "\\begin{verbatim}\n",
       "text(str)\n",
       "text(str, pos)\n",
       "text(str, pos, angle=pi/2)\n",
       "text(str, x, y)\n",
       "text(str, pos, halign=:left)\n",
       "text(str, valign=:baseline)\n",
       "text(str, valign=:baseline, halign=:left)\n",
       "text(str, pos, valign=:baseline, halign=:left)\n",
       "\\end{verbatim}\n",
       "Draw the text in the string \\texttt{str} at \\texttt{x}/\\texttt{y} or \\texttt{pt}, placing the start of the string at the point. If you omit the point, it's placed at the current \\texttt{0/0}. In Luxor, placing text doesn't affect the current point.\n",
       "\n",
       "\\texttt{angle} specifies the rotation of the text relative to the current x-axis.\n",
       "\n",
       "Horizontal alignment \\texttt{halign} can be \\texttt{:left}, \\texttt{:center}, (also \\texttt{:centre}) or \\texttt{:right}.  Vertical alignment \\texttt{valign} can be \\texttt{:baseline}, \\texttt{:top}, \\texttt{:middle}, or \\texttt{:bottom}.\n",
       "\n",
       "The default alignment is \\texttt{:left}, \\texttt{:baseline}.\n",
       "\n",
       "This uses Cairo's Toy text API.\n",
       "\n"
      ],
      "text/markdown": [
       "```\n",
       "text(str)\n",
       "text(str, pos)\n",
       "text(str, pos, angle=pi/2)\n",
       "text(str, x, y)\n",
       "text(str, pos, halign=:left)\n",
       "text(str, valign=:baseline)\n",
       "text(str, valign=:baseline, halign=:left)\n",
       "text(str, pos, valign=:baseline, halign=:left)\n",
       "```\n",
       "\n",
       "Draw the text in the string `str` at `x`/`y` or `pt`, placing the start of the string at the point. If you omit the point, it's placed at the current `0/0`. In Luxor, placing text doesn't affect the current point.\n",
       "\n",
       "`angle` specifies the rotation of the text relative to the current x-axis.\n",
       "\n",
       "Horizontal alignment `halign` can be `:left`, `:center`, (also `:centre`) or `:right`.  Vertical alignment `valign` can be `:baseline`, `:top`, `:middle`, or `:bottom`.\n",
       "\n",
       "The default alignment is `:left`, `:baseline`.\n",
       "\n",
       "This uses Cairo's Toy text API.\n"
      ],
      "text/plain": [
       "\u001b[36m  text(str)\u001b[39m\n",
       "\u001b[36m  text(str, pos)\u001b[39m\n",
       "\u001b[36m  text(str, pos, angle=pi/2)\u001b[39m\n",
       "\u001b[36m  text(str, x, y)\u001b[39m\n",
       "\u001b[36m  text(str, pos, halign=:left)\u001b[39m\n",
       "\u001b[36m  text(str, valign=:baseline)\u001b[39m\n",
       "\u001b[36m  text(str, valign=:baseline, halign=:left)\u001b[39m\n",
       "\u001b[36m  text(str, pos, valign=:baseline, halign=:left)\u001b[39m\n",
       "\n",
       "  Draw the text in the string \u001b[36mstr\u001b[39m at \u001b[36mx\u001b[39m/\u001b[36my\u001b[39m or \u001b[36mpt\u001b[39m, placing the start of the\n",
       "  string at the point. If you omit the point, it's placed at the current \u001b[36m0/0\u001b[39m.\n",
       "  In Luxor, placing text doesn't affect the current point.\n",
       "\n",
       "  \u001b[36mangle\u001b[39m specifies the rotation of the text relative to the current x-axis.\n",
       "\n",
       "  Horizontal alignment \u001b[36mhalign\u001b[39m can be \u001b[36m:left\u001b[39m, \u001b[36m:center\u001b[39m, (also \u001b[36m:centre\u001b[39m) or \u001b[36m:right\u001b[39m.\n",
       "  Vertical alignment \u001b[36mvalign\u001b[39m can be \u001b[36m:baseline\u001b[39m, \u001b[36m:top\u001b[39m, \u001b[36m:middle\u001b[39m, or \u001b[36m:bottom\u001b[39m.\n",
       "\n",
       "  The default alignment is \u001b[36m:left\u001b[39m, \u001b[36m:baseline\u001b[39m.\n",
       "\n",
       "  This uses Cairo's Toy text API."
      ]
     },
     "execution_count": 110,
     "metadata": {},
     "output_type": "execute_result"
    }
   ],
   "source": [
    "?Luxor.text"
   ]
  },
  {
   "cell_type": "code",
   "execution_count": 446,
   "metadata": {},
   "outputs": [
    {
     "data": {
      "text/plain": [
       "brain (generic function with 1 method)"
      ]
     },
     "execution_count": 446,
     "metadata": {},
     "output_type": "execute_result"
    }
   ],
   "source": [
    "function brain()\n",
    "    \n",
    "    gsave()\n",
    "    \n",
    "    sethue(0.8, 0.7, 0.8)\n",
    "    ellipse(Point(0,0), 120, 100, :fillstroke)\n",
    "    circle(0, 25, 35, :fillstroke)\n",
    "    ellipse(0, 65, 30, 50, :fillstroke)\n",
    "    box(0, 60, 20, 100, :fillstroke)\n",
    "    \n",
    "#     sethue(1,1,1)\n",
    "#     fontsize(16)\n",
    "#     fontface(\"Helvetica-Bold\")\n",
    "#     text(\"BRAIN\", 0, 0, halign=:center)\n",
    "    \n",
    "    grestore()\n",
    "    \n",
    "end"
   ]
  },
  {
   "cell_type": "code",
   "execution_count": 415,
   "metadata": {},
   "outputs": [
    {
     "data": {
      "text/plain": [
       "title (generic function with 1 method)"
      ]
     },
     "execution_count": 415,
     "metadata": {},
     "output_type": "execute_result"
    }
   ],
   "source": [
    "function title(string)\n",
    "    gsave()\n",
    "    fontface(\"Helvetica-Bold\")\n",
    "    fontsize(20)\n",
    "    sethue(0,0,0)\n",
    "    text(string, 0, 200, halign=:center)\n",
    "    grestore()\n",
    "end"
   ]
  },
  {
   "cell_type": "code",
   "execution_count": null,
   "metadata": {},
   "outputs": [],
   "source": []
  },
  {
   "cell_type": "code",
   "execution_count": 447,
   "metadata": {
    "scrolled": false
   },
   "outputs": [
    {
     "data": {
      "image/png": "[encoded data removed]"
     },
     "metadata": {},
     "output_type": "display_data"
    }
   ],
   "source": [
    "@img \"serotonin-source\" begin\n",
    "    \n",
    "    translate(-30,-70)\n",
    "    \n",
    "    gsave()\n",
    "    translate(-50, 0)\n",
    "    brain()\n",
    "    grestore()\n",
    "    \n",
    "    r_pin = 5\n",
    "    \n",
    "    circle(-50,60, r_pin,:stroke)\n",
    "    line(Point(-50+r_pin,60), Point(40,60), :stroke)\n",
    "    arrow(Point(-50, 60+r_pin), Point(-50, 150))\n",
    "    arrow(Point(-50, 60-r_pin), Point(-50, 5))\n",
    "    \n",
    "    fontface(\"Helvetica-Bold\")\n",
    "    fontsize(15)\n",
    "    text(\"RAPHE NUCLEI\", 50, 60, valign=:middle)\n",
    "    fontface(\"Helvetica\")\n",
    "    textwrap(\"Contains neurons which produce serotonin.\", 200, Point(50,70))\n",
    "    \n",
    "    fontsize(13)\n",
    "    fontface(\"Helvetica-Bold\")\n",
    "    text(\"DORSAL HORN\", -70, 130, halign=:right)\n",
    "    fontface(\"Helvetica\")\n",
    "    text(\"Suppresses pain.\", -70, 150, halign=:right)\n",
    "    \n",
    "    title(\"SEROTONIN\")\n",
    "    \n",
    "end"
   ]
  },
  {
   "cell_type": "code",
   "execution_count": 320,
   "metadata": {},
   "outputs": [
    {
     "data": {
      "text/plain": [
       "brainside (generic function with 1 method)"
      ]
     },
     "execution_count": 320,
     "metadata": {},
     "output_type": "execute_result"
    }
   ],
   "source": [
    "function brainside()\n",
    "    \n",
    "    gsave()\n",
    "    \n",
    "    sethue(0.8, 0.7, 0.8)\n",
    "    ellipse(Point(0,0), 160, 100, :fillstroke)\n",
    "    circle(40, 15, 50, :fillstroke)\n",
    "    circle(30, 55, 30, :fillstroke)\n",
    "    circle(-7.5, 50, 5, :fillstroke)\n",
    "    ellipse(10, 65, 30, 50, :fillstroke)\n",
    "    box(20, 60, 20, 100, :fillstroke)\n",
    "    \n",
    "#     sethue(1,1,1)\n",
    "#     fontsize(16)\n",
    "#     fontface(\"Helvetica-Bold\")\n",
    "#     text(\"BRAIN\", 0, 0, halign=:center)\n",
    "    \n",
    "    grestore()\n",
    "    \n",
    "end\n",
    "    "
   ]
  },
  {
   "cell_type": "code",
   "execution_count": 418,
   "metadata": {},
   "outputs": [
    {
     "name": "stdout",
     "output_type": "stream",
     "text": [
      "search: \u001b[0m\u001b[1mb\u001b[22m\u001b[0m\u001b[1ma\u001b[22m\u001b[0m\u001b[1mc\u001b[22m\u001b[0m\u001b[1mk\u001b[22m\u001b[0m\u001b[1mg\u001b[22m\u001b[0m\u001b[1mr\u001b[22m\u001b[0m\u001b[1mo\u001b[22m\u001b[0m\u001b[1mu\u001b[22m\u001b[0m\u001b[1mn\u001b[22m\u001b[0m\u001b[1md\u001b[22m\n",
      "\n"
     ]
    },
    {
     "data": {
      "text/latex": [
       "\\begin{verbatim}\n",
       "background(color)\n",
       "\\end{verbatim}\n",
       "Fill the canvas with a single color. Returns the (red, green, blue, alpha) values.\n",
       "\n",
       "Examples:\n",
       "\n",
       "\\begin{verbatim}\n",
       "background(\"antiquewhite\")\n",
       "background(\"ivory\")\n",
       "\\end{verbatim}\n",
       "If Colors.jl is installed:\n",
       "\n",
       "\\begin{verbatim}\n",
       "background(RGB(0, 0, 0))\n",
       "background(Luv(20, -20, 30))\n",
       "\\end{verbatim}\n",
       "If you don't specify a background color for a PNG drawing, the background will be transparent. You can set a partly or completely transparent background for PNG files by passing a color with an alpha value, such as this 'transparent black':\n",
       "\n",
       "\\begin{verbatim}\n",
       "background(RGBA(0, 0, 0, 0))\n",
       "\\end{verbatim}\n",
       "or\n",
       "\n",
       "\\begin{verbatim}\n",
       "background(0, 0, 0, 0)\n",
       "\\end{verbatim}\n",
       "Because this sets the current alpha level to 0.0, change it to something more visible before you start drawing.\n",
       "\n",
       "Returns the colors in a tuple.\n",
       "\n"
      ],
      "text/markdown": [
       "```\n",
       "background(color)\n",
       "```\n",
       "\n",
       "Fill the canvas with a single color. Returns the (red, green, blue, alpha) values.\n",
       "\n",
       "Examples:\n",
       "\n",
       "```\n",
       "background(\"antiquewhite\")\n",
       "background(\"ivory\")\n",
       "```\n",
       "\n",
       "If Colors.jl is installed:\n",
       "\n",
       "```\n",
       "background(RGB(0, 0, 0))\n",
       "background(Luv(20, -20, 30))\n",
       "```\n",
       "\n",
       "If you don't specify a background color for a PNG drawing, the background will be transparent. You can set a partly or completely transparent background for PNG files by passing a color with an alpha value, such as this 'transparent black':\n",
       "\n",
       "```\n",
       "background(RGBA(0, 0, 0, 0))\n",
       "```\n",
       "\n",
       "or\n",
       "\n",
       "```\n",
       "background(0, 0, 0, 0)\n",
       "```\n",
       "\n",
       "Because this sets the current alpha level to 0.0, change it to something more visible before you start drawing.\n",
       "\n",
       "Returns the colors in a tuple.\n"
      ],
      "text/plain": [
       "\u001b[36m  background(color)\u001b[39m\n",
       "\n",
       "  Fill the canvas with a single color. Returns the (red, green, blue, alpha)\n",
       "  values.\n",
       "\n",
       "  Examples:\n",
       "\n",
       "\u001b[36m  background(\"antiquewhite\")\u001b[39m\n",
       "\u001b[36m  background(\"ivory\")\u001b[39m\n",
       "\n",
       "  If Colors.jl is installed:\n",
       "\n",
       "\u001b[36m  background(RGB(0, 0, 0))\u001b[39m\n",
       "\u001b[36m  background(Luv(20, -20, 30))\u001b[39m\n",
       "\n",
       "  If you don't specify a background color for a PNG drawing, the background\n",
       "  will be transparent. You can set a partly or completely transparent\n",
       "  background for PNG files by passing a color with an alpha value, such as\n",
       "  this 'transparent black':\n",
       "\n",
       "\u001b[36m  background(RGBA(0, 0, 0, 0))\u001b[39m\n",
       "\n",
       "  or\n",
       "\n",
       "\u001b[36m  background(0, 0, 0, 0)\u001b[39m\n",
       "\n",
       "  Because this sets the current alpha level to 0.0, change it to something\n",
       "  more visible before you start drawing.\n",
       "\n",
       "  Returns the colors in a tuple."
      ]
     },
     "execution_count": 418,
     "metadata": {},
     "output_type": "execute_result"
    }
   ],
   "source": [
    "?background"
   ]
  },
  {
   "cell_type": "code",
   "execution_count": 444,
   "metadata": {},
   "outputs": [
    {
     "data": {
      "image/png": "[encoded data removed]"
     },
     "metadata": {},
     "output_type": "display_data"
    }
   ],
   "source": [
    "@img \"dopamine-source\" begin\n",
    "    \n",
    "    translate(-30,-40)\n",
    "    \n",
    "    gsave()\n",
    "    translate(-50, 0)\n",
    "    brainside()\n",
    "    grestore()\n",
    "    \n",
    "    r_pin = 3\n",
    "    fontface(\"Helvetica-Bold\")\n",
    "    fontsize(15)\n",
    "    \n",
    "    sethue(0.6, 0.3, 0.3)\n",
    "    hx, hy = -37.5, 30\n",
    "    circle(hx, hy, r_pin, :stroke)\n",
    "    arrow(Point(hx-r_pin, hy), Point(hx-22.5, hy+22.5))   \n",
    "    text(\"4\", Point(hx-22.5-10, hy+22.5+10), halign=:right)\n",
    "    text(\"4) \\\"Don't lactate\\\" pathway\", 80, 100)\n",
    "    fontface(\"Helvetica\")\n",
    "    text(\"(tubero-infundibular)\", 100, 120)\n",
    "    \n",
    "    sethue(0,0,0)\n",
    "    snx, sny = -30, 50\n",
    "    circle(snx, sny,r_pin,:stroke)\n",
    "    arrow(Point(snx, sny-r_pin), Point(snx, sny-50))\n",
    "    fontface(\"Helvetica-Bold\")\n",
    "    text(\"1\", Point(snx, sny-55), valign=:bottom, halign=:center)\n",
    "    text(\"1)  Movement pathway\", 80, -50)\n",
    "    fontface(\"Helvetica\")\n",
    "    text(\"(nigro-striatal)\", 100, -30)\n",
    "    \n",
    "    sethue(0, 0.2, 0.4)\n",
    "    vtax, vtay = -40, 60\n",
    "    circle(vtax, vtay, r_pin, :stroke)\n",
    "    \n",
    "    arrow(Point(vtax, vtay-r_pin), Point(vtax, vtay-30), Point(vtax-5, vtay-35), Point(vtax-25, vtay-35))\n",
    "    fontface(\"Helvetica-Bold\")\n",
    "    text(\"3\", Point(vtax-30, vtay-35), halign=:right, valign=:middle)\n",
    "    text(\"3)  Reward pathway\", 80, 50)\n",
    "    fontface(\"Helvetica\")\n",
    "    text(\"(meso-limbic)\", 100, 70)\n",
    "    \n",
    "    arrow(Point(vtax, vtay-r_pin), Point(vtax, vtay-60), Point(vtax-20, 0), Point(-125, 0))\n",
    "    fontface(\"Helvetica-Bold\")\n",
    "    text(\"2\", Point(-135,0), halign=:right, valign=:middle)\n",
    "    text(\"2)  Cognitive pathway\", 80, 0)\n",
    "    fontface(\"Helvetica\")\n",
    "    text(\"(meso-cortical)\", 100, 20)\n",
    "    \n",
    "    title(\"DOPAMINE\")\n",
    "    \n",
    "end"
   ]
  },
  {
   "cell_type": "code",
   "execution_count": 471,
   "metadata": {},
   "outputs": [
    {
     "data": {
      "text/plain": [
       "label (generic function with 1 method)"
      ]
     },
     "execution_count": 471,
     "metadata": {},
     "output_type": "execute_result"
    }
   ],
   "source": [
    "function label(main, subtext, xmin, ymin)\n",
    "    gsave()\n",
    "    \n",
    "    sethue(0,0,0)\n",
    "    fontsize(15)\n",
    "    fontface(\"Helvetica-Bold\")\n",
    "    text(main, xmin, ymin, valign=:middle)\n",
    "    \n",
    "    fontface(\"Helvetica\")\n",
    "    textwrap(subtext, 200, Point(xmin, ymin+10))\n",
    "    \n",
    "    grestore()\n",
    "end"
   ]
  },
  {
   "cell_type": "code",
   "execution_count": 473,
   "metadata": {},
   "outputs": [
    {
     "data": {
      "image/png": "[encoded data removed]"
     },
     "metadata": {},
     "output_type": "display_data"
    }
   ],
   "source": [
    "@img noradrenaline-sorurce begin\n",
    "\n",
    "    \n",
    "    translate(-100,-30)\n",
    "    brainside()    \n",
    "    r_pin = 5\n",
    "    circle(30, 65, r_pin, :stroke)\n",
    "    line(Point(30+r_pin,65), Point(120, 65), :stroke)\n",
    "    \n",
    "    label(\"LOCUS COERULEUS\", \"Contains neurons releasing noradrenaline.\", 130, 65)\n",
    "\n",
    "end"
   ]
  },
  {
   "cell_type": "code",
   "execution_count": 323,
   "metadata": {},
   "outputs": [
    {
     "ename": "LoadError",
     "evalue": "MethodError: no method matching @slide(::LineNumberNode, ::Module, ::String, ::String, ::String, ::String)\nClosest candidates are:\n  @slide(::LineNumberNode, ::Module, ::Any, ::Any, ::Any, ::Any, !Matched::Any, !Matched::Any, !Matched::Any, !Matched::Any) at In[12]:2",
     "output_type": "error",
     "traceback": [
      "MethodError: no method matching @slide(::LineNumberNode, ::Module, ::String, ::String, ::String, ::String)\nClosest candidates are:\n  @slide(::LineNumberNode, ::Module, ::Any, ::Any, ::Any, ::Any, !Matched::Any, !Matched::Any, !Matched::Any, !Matched::Any) at In[12]:2",
      ""
     ]
    }
   ],
   "source": [
    "@slide(\n",
    "    \"Serotonin\",\n",
    "    \"\",\n",
    "    \"\",\n",
    "    \"\",\n",
    ")"
   ]
  },
  {
   "cell_type": "code",
   "execution_count": 13,
   "metadata": {},
   "outputs": [
    {
     "data": {
      "image/png": "[encoded data removed]"
     },
     "metadata": {},
     "output_type": "display_data"
    }
   ],
   "source": [
    "@slide(\n",
    "    \"Test\",\n",
    "    \"test scenario\",\n",
    "    \"test suggestion\",\n",
    "    \"test rationale\",\n",
    "    \"test example stem\",\n",
    "    \"test example answer\",\n",
    "    \"test_graphic_name.png\",\n",
    "    circle(0, 0, 50, :stroke)\n",
    ")"
   ]
  },
  {
   "cell_type": "markdown",
   "metadata": {},
   "source": [
    "# Antidepressants"
   ]
  },
  {
   "cell_type": "code",
   "execution_count": null,
   "metadata": {},
   "outputs": [],
   "source": []
  }
 ],
 "metadata": {
  "@webio": {
   "lastCommId": null,
   "lastKernelId": null
  },
  "kernelspec": {
   "display_name": "Julia 1.1.0",
   "language": "julia",
   "name": "julia-1.1"
  },
  "language_info": {
   "file_extension": ".jl",
   "mimetype": "application/julia",
   "name": "julia",
   "version": "1.1.0"
  }
 },
 "nbformat": 4,
 "nbformat_minor": 2
}
